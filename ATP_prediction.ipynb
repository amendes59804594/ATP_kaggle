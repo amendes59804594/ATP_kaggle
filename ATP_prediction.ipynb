{
 "cells": [
  {
   "cell_type": "code",
   "execution_count": 1,
   "metadata": {},
   "outputs": [
    {
     "data": {
      "text/plain": [
       "'\\nCreated on Fri Feb 21 14:46:00 2019\\n\\n@author: alexandremendes\\n\\n'"
      ]
     },
     "execution_count": 1,
     "metadata": {},
     "output_type": "execute_result"
    }
   ],
   "source": [
    "\"\"\"\n",
    "Created on Fri Feb 21 14:46:00 2019\n",
    "\n",
    "@author: alexandremendes\n",
    "\n",
    "\"\"\""
   ]
  },
  {
   "cell_type": "markdown",
   "metadata": {},
   "source": [
    "# Libraries"
   ]
  },
  {
   "cell_type": "code",
   "execution_count": 93,
   "metadata": {},
   "outputs": [],
   "source": [
    "import pandas as pd\n",
    "import numpy as np\n",
    "from IPython.display import display, HTML\n",
    "import matplotlib.pyplot as plt\n",
    "import plotly\n",
    "import io\n",
    "import base64\n",
    "import seaborn as sns\n",
    "sns.set_style('white')\n",
    "\n",
    "from sklearn.metrics import accuracy_score, precision_score, recall_score, f1_score\n",
    "from sklearn.preprocessing import StandardScaler, RobustScaler, Normalizer\n",
    "\n",
    "\n",
    "from sklearn.neural_network import MLPClassifier\n",
    "from sklearn.neighbors import KNeighborsClassifier\n",
    "from sklearn.svm import SVC\n",
    "from sklearn.gaussian_process import GaussianProcessClassifier\n",
    "from sklearn.gaussian_process.kernels import RBF\n",
    "from sklearn.tree import DecisionTreeClassifier\n",
    "from sklearn.ensemble import RandomForestClassifier, AdaBoostClassifier\n",
    "from sklearn.naive_bayes import GaussianNB\n",
    "from sklearn.discriminant_analysis import QuadraticDiscriminantAnalysis\n",
    "\n",
    "from time import time\n",
    "\n",
    "pd.set_option('display.max_columns', 100)"
   ]
  },
  {
   "cell_type": "markdown",
   "metadata": {},
   "source": [
    "# Functions"
   ]
  },
  {
   "cell_type": "code",
   "execution_count": 3,
   "metadata": {},
   "outputs": [],
   "source": [
    "def mutual_hist(data1, data1_name, data1_color, data2, data2_name, data2_color, x_label, y_label, title):\n",
    "    \"\"\"\n",
    "    Plot overlaid histograms of two distributions\n",
    "    \"\"\"\n",
    "    # Set the bounds for the bins so that the two distributions are fairly compared\n",
    "    max_nbins = 10\n",
    "    data_range = [min(min(data1), min(data2)), max(max(data1), max(data2))]\n",
    "    binwidth = (data_range[1] - data_range[0]) / max_nbins\n",
    "    bins = np.arange(data_range[0], data_range[1] + binwidth, binwidth)\n",
    "\n",
    "    # Create the plot\n",
    "    _, ax = plt.subplots()\n",
    "    ax.hist(data1, bins = bins, color = data1_color, alpha = 1, label = data1_name)\n",
    "    ax.hist(data2, bins = bins, color = data2_color, alpha = 0.75, label = data2_name)\n",
    "    ax.set_ylabel(y_label)\n",
    "    ax.set_xlabel(x_label)\n",
    "    ax.set_title(title)\n",
    "    ax.legend(loc = 'best')"
   ]
  },
  {
   "cell_type": "code",
   "execution_count": 4,
   "metadata": {},
   "outputs": [],
   "source": [
    "def classification_report(y_true, y_pred, name_classifiers, train_time=None):\n",
    "    \"\"\"\n",
    "    Displays multiple evaluation metrics for each classifier\n",
    "    \"\"\"\n",
    "    assert(len(y_pred) == len(name_classifiers))\n",
    "    assert(len(train_time) == len(name_classifiers) if train_time else True)\n",
    "    \n",
    "    reports = []\n",
    "    metrics = [\"Classifier\", \"Accuracy\", \"Precision\", \"Recall\", \"F1-Score\"]\n",
    "    if train_time:\n",
    "        metrics = metrics + [\"Training Duration (seconds)\"]\n",
    "\n",
    "    for idx, y_clf in enumerate(y_pred):\n",
    "        acc = accuracy_score(y_true, y_clf)\n",
    "        pre = precision_score(y_true, y_clf)\n",
    "        rec = recall_score(y_true, y_clf)\n",
    "        f1s = f1_score(y_true, y_clf)\n",
    "        report = (name_classifiers[idx], acc, pre, rec, f1s)\n",
    "        if train_time:\n",
    "            report = report + (train_time[idx], )\n",
    "        reports.append(report)\n",
    "            \n",
    "    display(pd.DataFrame.from_records(reports, columns=metrics))"
   ]
  },
  {
   "cell_type": "code",
   "execution_count": 58,
   "metadata": {},
   "outputs": [],
   "source": [
    "def fig_to_base64(fig):\n",
    "    img = io.BytesIO()\n",
    "    fig.savefig(img, format='png',\n",
    "                bbox_inches='tight')\n",
    "    img.seek(0)\n",
    "\n",
    "    return base64.b64encode(img.getvalue())"
   ]
  },
  {
   "cell_type": "markdown",
   "metadata": {},
   "source": [
    "# Data mining"
   ]
  },
  {
   "cell_type": "code",
   "execution_count": 5,
   "metadata": {},
   "outputs": [],
   "source": [
    "df_atp = pd.read_csv('./ATP.csv', dtype=str)"
   ]
  },
  {
   "cell_type": "code",
   "execution_count": 6,
   "metadata": {},
   "outputs": [],
   "source": [
    "# Create new columns storing year and year/month attributes\n",
    "df_atp['tourney_yearmonth'] = df_atp.tourney_date.astype(str).str[:6]\n",
    "df_atp['tourney_year'] = df_atp.tourney_date.astype(str).str[:4]\n",
    "\n",
    "df_atp = df_atp[df_atp['tourney_year'].between('1968','2016')]\n",
    "\n",
    "# Cast specific columns\n",
    "df_atp['winner_rank'] = df_atp['winner_rank'].fillna(0).astype(int)\n",
    "df_atp['loser_rank'] = df_atp['loser_rank'].fillna(0).astype(float)\n",
    "df_atp['winner_age'] = df_atp['winner_age'].dropna().astype(float)\n",
    "df_atp['loser_age'] = df_atp['loser_age'].dropna().astype(float)\n",
    "df_atp['winner_ht'] = df_atp['winner_ht'].dropna().astype(int)\n",
    "df_atp['loser_ht'] = df_atp['loser_ht'].dropna().astype(int)\n",
    "df_atp['w_svpt'] = df_atp['w_svpt'].fillna(0).astype(int)\n",
    "df_atp['l_svpt'] = df_atp['l_svpt'].fillna(0).astype(int)\n",
    "df_atp['w_ace'] = df_atp['w_ace'].fillna(0).astype(int)\n",
    "df_atp['l_ace'] = df_atp['l_ace'].fillna(0).astype(int)\n",
    "df_atp['w_df'] = df_atp['w_df'].fillna(0).astype(int)\n",
    "df_atp['l_df'] = df_atp['l_df'].fillna(0).astype(int)\n",
    "df_atp['w_bpSaved'] = df_atp['w_bpSaved'].fillna(0).astype(int)\n",
    "df_atp['l_bpSaved'] = df_atp['l_bpSaved'].fillna(0).astype(int)"
   ]
  },
  {
   "cell_type": "code",
   "execution_count": 7,
   "metadata": {},
   "outputs": [],
   "source": [
    "df_atp.tourney_year = pd.to_numeric(df_atp.tourney_year, errors='coerce').fillna(0).astype(np.int64)\n",
    "df_atp.tourney_date = pd.to_numeric(df_atp.tourney_date, errors='coerce').fillna(0).astype(np.int64)"
   ]
  },
  {
   "cell_type": "code",
   "execution_count": 8,
   "metadata": {},
   "outputs": [
    {
     "data": {
      "text/html": [
       "<div>\n",
       "<style scoped>\n",
       "    .dataframe tbody tr th:only-of-type {\n",
       "        vertical-align: middle;\n",
       "    }\n",
       "\n",
       "    .dataframe tbody tr th {\n",
       "        vertical-align: top;\n",
       "    }\n",
       "\n",
       "    .dataframe thead th {\n",
       "        text-align: right;\n",
       "    }\n",
       "</style>\n",
       "<table border=\"1\" class=\"dataframe\">\n",
       "  <thead>\n",
       "    <tr style=\"text-align: right;\">\n",
       "      <th></th>\n",
       "      <th>tourney_id</th>\n",
       "      <th>tourney_name</th>\n",
       "      <th>surface</th>\n",
       "      <th>draw_size</th>\n",
       "      <th>tourney_level</th>\n",
       "      <th>tourney_date</th>\n",
       "      <th>match_num</th>\n",
       "      <th>winner_id</th>\n",
       "      <th>winner_seed</th>\n",
       "      <th>winner_entry</th>\n",
       "      <th>winner_name</th>\n",
       "      <th>winner_hand</th>\n",
       "      <th>winner_ht</th>\n",
       "      <th>winner_ioc</th>\n",
       "      <th>winner_age</th>\n",
       "      <th>winner_rank</th>\n",
       "      <th>winner_rank_points</th>\n",
       "      <th>loser_id</th>\n",
       "      <th>loser_seed</th>\n",
       "      <th>loser_entry</th>\n",
       "      <th>loser_name</th>\n",
       "      <th>loser_hand</th>\n",
       "      <th>loser_ht</th>\n",
       "      <th>loser_ioc</th>\n",
       "      <th>loser_age</th>\n",
       "      <th>loser_rank</th>\n",
       "      <th>loser_rank_points</th>\n",
       "      <th>score</th>\n",
       "      <th>best_of</th>\n",
       "      <th>round</th>\n",
       "      <th>minutes</th>\n",
       "      <th>w_ace</th>\n",
       "      <th>w_df</th>\n",
       "      <th>w_svpt</th>\n",
       "      <th>w_1stIn</th>\n",
       "      <th>w_1stWon</th>\n",
       "      <th>w_2ndWon</th>\n",
       "      <th>w_SvGms</th>\n",
       "      <th>w_bpSaved</th>\n",
       "      <th>w_bpFaced</th>\n",
       "      <th>l_ace</th>\n",
       "      <th>l_df</th>\n",
       "      <th>l_svpt</th>\n",
       "      <th>l_1stIn</th>\n",
       "      <th>l_1stWon</th>\n",
       "      <th>l_2ndWon</th>\n",
       "      <th>l_SvGms</th>\n",
       "      <th>l_bpSaved</th>\n",
       "      <th>l_bpFaced</th>\n",
       "      <th>tourney_yearmonth</th>\n",
       "      <th>tourney_year</th>\n",
       "    </tr>\n",
       "  </thead>\n",
       "  <tbody>\n",
       "    <tr>\n",
       "      <th>0</th>\n",
       "      <td>1968-580</td>\n",
       "      <td>Australian Chps.</td>\n",
       "      <td>Grass</td>\n",
       "      <td>64</td>\n",
       "      <td>G</td>\n",
       "      <td>19680119</td>\n",
       "      <td>001</td>\n",
       "      <td>110023</td>\n",
       "      <td>NaN</td>\n",
       "      <td>NaN</td>\n",
       "      <td>Richard Coulthard</td>\n",
       "      <td>R</td>\n",
       "      <td>NaN</td>\n",
       "      <td>AUS</td>\n",
       "      <td>NaN</td>\n",
       "      <td>0</td>\n",
       "      <td>NaN</td>\n",
       "      <td>107760</td>\n",
       "      <td>NaN</td>\n",
       "      <td>NaN</td>\n",
       "      <td>Max Senior</td>\n",
       "      <td>R</td>\n",
       "      <td>NaN</td>\n",
       "      <td>AUS</td>\n",
       "      <td>NaN</td>\n",
       "      <td>0.0</td>\n",
       "      <td>NaN</td>\n",
       "      <td>12-10 7-5 4-6 7-5</td>\n",
       "      <td>5</td>\n",
       "      <td>R64</td>\n",
       "      <td>NaN</td>\n",
       "      <td>0</td>\n",
       "      <td>0</td>\n",
       "      <td>0</td>\n",
       "      <td>NaN</td>\n",
       "      <td>NaN</td>\n",
       "      <td>NaN</td>\n",
       "      <td>NaN</td>\n",
       "      <td>0</td>\n",
       "      <td>NaN</td>\n",
       "      <td>0</td>\n",
       "      <td>0</td>\n",
       "      <td>0</td>\n",
       "      <td>NaN</td>\n",
       "      <td>NaN</td>\n",
       "      <td>NaN</td>\n",
       "      <td>NaN</td>\n",
       "      <td>0</td>\n",
       "      <td>NaN</td>\n",
       "      <td>196801</td>\n",
       "      <td>1968</td>\n",
       "    </tr>\n",
       "    <tr>\n",
       "      <th>1</th>\n",
       "      <td>1968-580</td>\n",
       "      <td>Australian Chps.</td>\n",
       "      <td>Grass</td>\n",
       "      <td>64</td>\n",
       "      <td>G</td>\n",
       "      <td>19680119</td>\n",
       "      <td>002</td>\n",
       "      <td>109803</td>\n",
       "      <td>NaN</td>\n",
       "      <td>NaN</td>\n",
       "      <td>John Brown</td>\n",
       "      <td>R</td>\n",
       "      <td>NaN</td>\n",
       "      <td>AUS</td>\n",
       "      <td>27.520876</td>\n",
       "      <td>0</td>\n",
       "      <td>NaN</td>\n",
       "      <td>106964</td>\n",
       "      <td>NaN</td>\n",
       "      <td>NaN</td>\n",
       "      <td>Ernie Mccabe</td>\n",
       "      <td>R</td>\n",
       "      <td>NaN</td>\n",
       "      <td>AUS</td>\n",
       "      <td>NaN</td>\n",
       "      <td>0.0</td>\n",
       "      <td>NaN</td>\n",
       "      <td>6-3 6-2 6-4</td>\n",
       "      <td>5</td>\n",
       "      <td>R64</td>\n",
       "      <td>NaN</td>\n",
       "      <td>0</td>\n",
       "      <td>0</td>\n",
       "      <td>0</td>\n",
       "      <td>NaN</td>\n",
       "      <td>NaN</td>\n",
       "      <td>NaN</td>\n",
       "      <td>NaN</td>\n",
       "      <td>0</td>\n",
       "      <td>NaN</td>\n",
       "      <td>0</td>\n",
       "      <td>0</td>\n",
       "      <td>0</td>\n",
       "      <td>NaN</td>\n",
       "      <td>NaN</td>\n",
       "      <td>NaN</td>\n",
       "      <td>NaN</td>\n",
       "      <td>0</td>\n",
       "      <td>NaN</td>\n",
       "      <td>196801</td>\n",
       "      <td>1968</td>\n",
       "    </tr>\n",
       "    <tr>\n",
       "      <th>2</th>\n",
       "      <td>1968-580</td>\n",
       "      <td>Australian Chps.</td>\n",
       "      <td>Grass</td>\n",
       "      <td>64</td>\n",
       "      <td>G</td>\n",
       "      <td>19680119</td>\n",
       "      <td>003</td>\n",
       "      <td>100257</td>\n",
       "      <td>NaN</td>\n",
       "      <td>NaN</td>\n",
       "      <td>Ross Case</td>\n",
       "      <td>R</td>\n",
       "      <td>NaN</td>\n",
       "      <td>AUS</td>\n",
       "      <td>16.216290</td>\n",
       "      <td>0</td>\n",
       "      <td>NaN</td>\n",
       "      <td>110024</td>\n",
       "      <td>15</td>\n",
       "      <td>NaN</td>\n",
       "      <td>Gondo Widjojo</td>\n",
       "      <td>R</td>\n",
       "      <td>NaN</td>\n",
       "      <td>INA</td>\n",
       "      <td>NaN</td>\n",
       "      <td>0.0</td>\n",
       "      <td>NaN</td>\n",
       "      <td>6-4 3-6 6-3 7-5</td>\n",
       "      <td>5</td>\n",
       "      <td>R64</td>\n",
       "      <td>NaN</td>\n",
       "      <td>0</td>\n",
       "      <td>0</td>\n",
       "      <td>0</td>\n",
       "      <td>NaN</td>\n",
       "      <td>NaN</td>\n",
       "      <td>NaN</td>\n",
       "      <td>NaN</td>\n",
       "      <td>0</td>\n",
       "      <td>NaN</td>\n",
       "      <td>0</td>\n",
       "      <td>0</td>\n",
       "      <td>0</td>\n",
       "      <td>NaN</td>\n",
       "      <td>NaN</td>\n",
       "      <td>NaN</td>\n",
       "      <td>NaN</td>\n",
       "      <td>0</td>\n",
       "      <td>NaN</td>\n",
       "      <td>196801</td>\n",
       "      <td>1968</td>\n",
       "    </tr>\n",
       "    <tr>\n",
       "      <th>3</th>\n",
       "      <td>1968-580</td>\n",
       "      <td>Australian Chps.</td>\n",
       "      <td>Grass</td>\n",
       "      <td>64</td>\n",
       "      <td>G</td>\n",
       "      <td>19680119</td>\n",
       "      <td>004</td>\n",
       "      <td>100105</td>\n",
       "      <td>5</td>\n",
       "      <td>NaN</td>\n",
       "      <td>Allan Stone</td>\n",
       "      <td>R</td>\n",
       "      <td>NaN</td>\n",
       "      <td>AUS</td>\n",
       "      <td>22.264203</td>\n",
       "      <td>0</td>\n",
       "      <td>NaN</td>\n",
       "      <td>110025</td>\n",
       "      <td>NaN</td>\n",
       "      <td>NaN</td>\n",
       "      <td>Robert Layton</td>\n",
       "      <td>R</td>\n",
       "      <td>NaN</td>\n",
       "      <td>AUS</td>\n",
       "      <td>NaN</td>\n",
       "      <td>0.0</td>\n",
       "      <td>NaN</td>\n",
       "      <td>6-4 6-2 6-1</td>\n",
       "      <td>5</td>\n",
       "      <td>R64</td>\n",
       "      <td>NaN</td>\n",
       "      <td>0</td>\n",
       "      <td>0</td>\n",
       "      <td>0</td>\n",
       "      <td>NaN</td>\n",
       "      <td>NaN</td>\n",
       "      <td>NaN</td>\n",
       "      <td>NaN</td>\n",
       "      <td>0</td>\n",
       "      <td>NaN</td>\n",
       "      <td>0</td>\n",
       "      <td>0</td>\n",
       "      <td>0</td>\n",
       "      <td>NaN</td>\n",
       "      <td>NaN</td>\n",
       "      <td>NaN</td>\n",
       "      <td>NaN</td>\n",
       "      <td>0</td>\n",
       "      <td>NaN</td>\n",
       "      <td>196801</td>\n",
       "      <td>1968</td>\n",
       "    </tr>\n",
       "    <tr>\n",
       "      <th>4</th>\n",
       "      <td>1968-580</td>\n",
       "      <td>Australian Chps.</td>\n",
       "      <td>Grass</td>\n",
       "      <td>64</td>\n",
       "      <td>G</td>\n",
       "      <td>19680119</td>\n",
       "      <td>005</td>\n",
       "      <td>109966</td>\n",
       "      <td>NaN</td>\n",
       "      <td>NaN</td>\n",
       "      <td>Warren Jacques</td>\n",
       "      <td>R</td>\n",
       "      <td>NaN</td>\n",
       "      <td>AUS</td>\n",
       "      <td>29.861739</td>\n",
       "      <td>0</td>\n",
       "      <td>NaN</td>\n",
       "      <td>110026</td>\n",
       "      <td>NaN</td>\n",
       "      <td>NaN</td>\n",
       "      <td>Bert Kearney</td>\n",
       "      <td>R</td>\n",
       "      <td>NaN</td>\n",
       "      <td>AUS</td>\n",
       "      <td>NaN</td>\n",
       "      <td>0.0</td>\n",
       "      <td>NaN</td>\n",
       "      <td>6-4 6-1 7-5</td>\n",
       "      <td>5</td>\n",
       "      <td>R64</td>\n",
       "      <td>NaN</td>\n",
       "      <td>0</td>\n",
       "      <td>0</td>\n",
       "      <td>0</td>\n",
       "      <td>NaN</td>\n",
       "      <td>NaN</td>\n",
       "      <td>NaN</td>\n",
       "      <td>NaN</td>\n",
       "      <td>0</td>\n",
       "      <td>NaN</td>\n",
       "      <td>0</td>\n",
       "      <td>0</td>\n",
       "      <td>0</td>\n",
       "      <td>NaN</td>\n",
       "      <td>NaN</td>\n",
       "      <td>NaN</td>\n",
       "      <td>NaN</td>\n",
       "      <td>0</td>\n",
       "      <td>NaN</td>\n",
       "      <td>196801</td>\n",
       "      <td>1968</td>\n",
       "    </tr>\n",
       "  </tbody>\n",
       "</table>\n",
       "</div>"
      ],
      "text/plain": [
       "  tourney_id      tourney_name surface draw_size tourney_level  tourney_date  \\\n",
       "0   1968-580  Australian Chps.   Grass        64             G      19680119   \n",
       "1   1968-580  Australian Chps.   Grass        64             G      19680119   \n",
       "2   1968-580  Australian Chps.   Grass        64             G      19680119   \n",
       "3   1968-580  Australian Chps.   Grass        64             G      19680119   \n",
       "4   1968-580  Australian Chps.   Grass        64             G      19680119   \n",
       "\n",
       "  match_num winner_id winner_seed winner_entry        winner_name winner_hand  \\\n",
       "0       001    110023         NaN          NaN  Richard Coulthard           R   \n",
       "1       002    109803         NaN          NaN         John Brown           R   \n",
       "2       003    100257         NaN          NaN          Ross Case           R   \n",
       "3       004    100105           5          NaN        Allan Stone           R   \n",
       "4       005    109966         NaN          NaN     Warren Jacques           R   \n",
       "\n",
       "   winner_ht winner_ioc  winner_age  winner_rank winner_rank_points loser_id  \\\n",
       "0        NaN        AUS         NaN            0                NaN   107760   \n",
       "1        NaN        AUS   27.520876            0                NaN   106964   \n",
       "2        NaN        AUS   16.216290            0                NaN   110024   \n",
       "3        NaN        AUS   22.264203            0                NaN   110025   \n",
       "4        NaN        AUS   29.861739            0                NaN   110026   \n",
       "\n",
       "  loser_seed loser_entry     loser_name loser_hand  loser_ht loser_ioc  \\\n",
       "0        NaN         NaN     Max Senior          R       NaN       AUS   \n",
       "1        NaN         NaN   Ernie Mccabe          R       NaN       AUS   \n",
       "2         15         NaN  Gondo Widjojo          R       NaN       INA   \n",
       "3        NaN         NaN  Robert Layton          R       NaN       AUS   \n",
       "4        NaN         NaN   Bert Kearney          R       NaN       AUS   \n",
       "\n",
       "   loser_age  loser_rank loser_rank_points              score best_of round  \\\n",
       "0        NaN         0.0               NaN  12-10 7-5 4-6 7-5       5   R64   \n",
       "1        NaN         0.0               NaN        6-3 6-2 6-4       5   R64   \n",
       "2        NaN         0.0               NaN    6-4 3-6 6-3 7-5       5   R64   \n",
       "3        NaN         0.0               NaN        6-4 6-2 6-1       5   R64   \n",
       "4        NaN         0.0               NaN        6-4 6-1 7-5       5   R64   \n",
       "\n",
       "  minutes  w_ace  w_df  w_svpt w_1stIn w_1stWon w_2ndWon w_SvGms  w_bpSaved  \\\n",
       "0     NaN      0     0       0     NaN      NaN      NaN     NaN          0   \n",
       "1     NaN      0     0       0     NaN      NaN      NaN     NaN          0   \n",
       "2     NaN      0     0       0     NaN      NaN      NaN     NaN          0   \n",
       "3     NaN      0     0       0     NaN      NaN      NaN     NaN          0   \n",
       "4     NaN      0     0       0     NaN      NaN      NaN     NaN          0   \n",
       "\n",
       "  w_bpFaced  l_ace  l_df  l_svpt l_1stIn l_1stWon l_2ndWon l_SvGms  l_bpSaved  \\\n",
       "0       NaN      0     0       0     NaN      NaN      NaN     NaN          0   \n",
       "1       NaN      0     0       0     NaN      NaN      NaN     NaN          0   \n",
       "2       NaN      0     0       0     NaN      NaN      NaN     NaN          0   \n",
       "3       NaN      0     0       0     NaN      NaN      NaN     NaN          0   \n",
       "4       NaN      0     0       0     NaN      NaN      NaN     NaN          0   \n",
       "\n",
       "  l_bpFaced tourney_yearmonth  tourney_year  \n",
       "0       NaN            196801          1968  \n",
       "1       NaN            196801          1968  \n",
       "2       NaN            196801          1968  \n",
       "3       NaN            196801          1968  \n",
       "4       NaN            196801          1968  "
      ]
     },
     "execution_count": 8,
     "metadata": {},
     "output_type": "execute_result"
    }
   ],
   "source": [
    "df_atp.head()"
   ]
  },
  {
   "cell_type": "code",
   "execution_count": 62,
   "metadata": {},
   "outputs": [
    {
     "data": {
      "image/png": "[encoded data removed]",
      "text/plain": [
       "<Figure size 1440x864 with 8 Axes>"
      ]
     },
     "metadata": {},
     "output_type": "display_data"
    }
   ],
   "source": [
    "# Explore several parameters\n",
    "plt.figure(1, figsize=(20,12))\n",
    "plt.subplot(2,4,1)\n",
    "df_atp['winner_rank'].plot(kind='hist',bins=60, xlim=(-10,500), title='Winner Rank')\n",
    "\n",
    "plt.subplot(2,4,2)\n",
    "df_atp['loser_rank'].plot(kind='hist',bins=60, xlim=(-10,500), title='Loser Rank')\n",
    "\n",
    "plt.subplot(2,4,3)\n",
    "df_atp['winner_age'].plot(kind='hist', title='Winner Age')\n",
    "\n",
    "plt.subplot(2,4,4)\n",
    "df_atp['loser_age'].plot(kind='hist', title='Loser Age')\n",
    "\n",
    "plt.subplot(2,4,5)\n",
    "df_atp['winner_ht'].plot(kind='hist', title='Winner Height')\n",
    "\n",
    "plt.subplot(2,4,6)\n",
    "df_atp['loser_ht'].plot(kind='hist', title='Loser Height')\n",
    "\n",
    "plt.subplot(2,4,7)\n",
    "df_atp['w_svpt'].plot(kind='hist', title='Winner Service Points', xlim=(0,300), bins=20)\n",
    "\n",
    "plt.subplot(2,4,8)\n",
    "df_atp['l_svpt'].plot(kind='hist', title='Loser Service Points', xlim=(0,300), bins=20)\n",
    "\n",
    "plt.savefig('data_mining.png')\n",
    "\n",
    "#plotly.offline.plot(fig, filename='data_mining.html')"
   ]
  },
  {
   "cell_type": "markdown",
   "metadata": {},
   "source": [
    "# Random Forest"
   ]
  },
  {
   "cell_type": "code",
   "execution_count": 63,
   "metadata": {},
   "outputs": [
    {
     "data": {
      "text/html": [
       "<div>\n",
       "<style scoped>\n",
       "    .dataframe tbody tr th:only-of-type {\n",
       "        vertical-align: middle;\n",
       "    }\n",
       "\n",
       "    .dataframe tbody tr th {\n",
       "        vertical-align: top;\n",
       "    }\n",
       "\n",
       "    .dataframe thead th {\n",
       "        text-align: right;\n",
       "    }\n",
       "</style>\n",
       "<table border=\"1\" class=\"dataframe\">\n",
       "  <thead>\n",
       "    <tr style=\"text-align: right;\">\n",
       "      <th></th>\n",
       "      <th>winner_name</th>\n",
       "      <th>loser_name</th>\n",
       "      <th>Labels</th>\n",
       "    </tr>\n",
       "  </thead>\n",
       "  <tbody>\n",
       "    <tr>\n",
       "      <th>0</th>\n",
       "      <td>Richard Coulthard</td>\n",
       "      <td>Max Senior</td>\n",
       "      <td>0</td>\n",
       "    </tr>\n",
       "    <tr>\n",
       "      <th>1</th>\n",
       "      <td>John Brown</td>\n",
       "      <td>Ernie Mccabe</td>\n",
       "      <td>0</td>\n",
       "    </tr>\n",
       "    <tr>\n",
       "      <th>2</th>\n",
       "      <td>Ross Case</td>\n",
       "      <td>Gondo Widjojo</td>\n",
       "      <td>0</td>\n",
       "    </tr>\n",
       "    <tr>\n",
       "      <th>3</th>\n",
       "      <td>Allan Stone</td>\n",
       "      <td>Robert Layton</td>\n",
       "      <td>1</td>\n",
       "    </tr>\n",
       "    <tr>\n",
       "      <th>4</th>\n",
       "      <td>Warren Jacques</td>\n",
       "      <td>Bert Kearney</td>\n",
       "      <td>0</td>\n",
       "    </tr>\n",
       "  </tbody>\n",
       "</table>\n",
       "</div>"
      ],
      "text/plain": [
       "         winner_name     loser_name  Labels\n",
       "0  Richard Coulthard     Max Senior       0\n",
       "1         John Brown   Ernie Mccabe       0\n",
       "2          Ross Case  Gondo Widjojo       0\n",
       "3        Allan Stone  Robert Layton       1\n",
       "4     Warren Jacques   Bert Kearney       0"
      ]
     },
     "metadata": {},
     "output_type": "display_data"
    },
    {
     "data": {
      "text/html": [
       "<h4>The number of 1's : 81129"
      ],
      "text/plain": [
       "<IPython.core.display.HTML object>"
      ]
     },
     "metadata": {},
     "output_type": "display_data"
    },
    {
     "data": {
      "text/html": [
       "<h4>The number of 0's : 82448"
      ],
      "text/plain": [
       "<IPython.core.display.HTML object>"
      ]
     },
     "metadata": {},
     "output_type": "display_data"
    },
    {
     "data": {
      "text/html": [
       "<h4>We notice that there is no Imbalanced Data issue !"
      ],
      "text/plain": [
       "<IPython.core.display.HTML object>"
      ]
     },
     "metadata": {},
     "output_type": "display_data"
    }
   ],
   "source": [
    "df_atp[\"Labels\"] = df_atp.apply(lambda row: 1 if row[\"winner_name\"] < row[\"loser_name\"] else 0, axis=1)\n",
    "display(df_atp[[\"winner_name\", \"loser_name\", \"Labels\"]].head(5))\n",
    "\n",
    "display(HTML(\"<h4>The number of 1's : {}\".format(df_atp[df_atp[\"Labels\"] == 1].shape[0])))\n",
    "display(HTML(\"<h4>The number of 0's : {}\".format(df_atp[df_atp[\"Labels\"] == 0].shape[0])))\n",
    "display(HTML(\"<h4>We notice that there is no Imbalanced Data issue !\"))"
   ]
  },
  {
   "cell_type": "code",
   "execution_count": 64,
   "metadata": {},
   "outputs": [],
   "source": [
    "df_feat = df_atp.loc[:, ['winner_ht', 'winner_age', 'winner_rank', 'winner_rank_points', 'loser_ht', 'loser_age', 'loser_rank', 'loser_rank_points', 'best_of', 'minutes', 'w_ace', \\\n",
    "    'w_df', 'w_svpt', 'w_1stIn', 'w_1stWon', 'w_2ndWon', 'w_SvGms', 'w_bpSaved', 'w_bpFaced', 'l_ace', 'l_df', 'l_svpt', 'l_1stIn', 'l_1stWon', 'l_2ndWon', 'l_SvGms', \\\n",
    "    'l_bpSaved', 'l_bpFaced', 'tourney_year', 'Labels']]"
   ]
  },
  {
   "cell_type": "code",
   "execution_count": 65,
   "metadata": {},
   "outputs": [
    {
     "data": {
      "text/html": [
       "<h4>Counting the NaN values for each feature :"
      ],
      "text/plain": [
       "<IPython.core.display.HTML object>"
      ]
     },
     "metadata": {},
     "output_type": "display_data"
    },
    {
     "data": {
      "text/plain": [
       "winner_ht             17847\n",
       "winner_age             3443\n",
       "winner_rank               0\n",
       "winner_rank_points    24636\n",
       "loser_ht              29048\n",
       "loser_age              6557\n",
       "loser_rank                0\n",
       "loser_rank_points     27775\n",
       "best_of                   0\n",
       "minutes               89074\n",
       "w_ace                     0\n",
       "w_df                      0\n",
       "w_svpt                    0\n",
       "w_1stIn               86551\n",
       "w_1stWon              86551\n",
       "w_2ndWon              86551\n",
       "w_SvGms               86551\n",
       "w_bpSaved                 0\n",
       "w_bpFaced             86551\n",
       "l_ace                     0\n",
       "l_df                      0\n",
       "l_svpt                    0\n",
       "l_1stIn               86551\n",
       "l_1stWon              86551\n",
       "l_2ndWon              86551\n",
       "l_SvGms               86551\n",
       "l_bpSaved                 0\n",
       "l_bpFaced             86551\n",
       "tourney_year              0\n",
       "Labels                    0\n",
       "dtype: int64"
      ]
     },
     "execution_count": 65,
     "metadata": {},
     "output_type": "execute_result"
    }
   ],
   "source": [
    "display(HTML(\"<h4>Counting the NaN values for each feature :\"))\n",
    "df_feat.isnull().sum()"
   ]
  },
  {
   "cell_type": "code",
   "execution_count": 66,
   "metadata": {},
   "outputs": [],
   "source": [
    "df_feat[\"tourney_year\"] = pd.to_numeric(df_feat[\"tourney_year\"], downcast='float')"
   ]
  },
  {
   "cell_type": "code",
   "execution_count": 67,
   "metadata": {},
   "outputs": [],
   "source": [
    "object_cols = df_feat.columns[df_feat.dtypes.eq(object)]\n",
    "df_feat.loc[:, object_cols] = df_feat.apply(pd.to_numeric, errors='coerce')    # replace errors by NaNs"
   ]
  },
  {
   "cell_type": "code",
   "execution_count": 68,
   "metadata": {},
   "outputs": [],
   "source": [
    "df_feat = df_feat.dropna(axis=1, how=\"all\")\n",
    "\n",
    "df_feat.fillna({x : 0 for x in [\n",
    "    \"minutes\", \"w_1stIn\", \"w_1stWon\", \"w_2ndWon\", \"w_SvGms\", \"w_bpFaced\", \"l_1stIn\", \n",
    "    \"l_1stWon\", \"l_2ndWon\", \"l_SvGms\",\"l_bpFaced\"]}, inplace=True); # fill Nan with 0\n",
    "\n",
    "# hypothesis ---> think more about them\n",
    "df_feat[\"winner_ht\"] = df_feat[\"winner_ht\"].fillna(df_feat[\"winner_ht\"].max())\n",
    "df_feat[\"winner_age\"] = df_feat[\"winner_age\"].fillna(df_feat[\"winner_age\"].mean()) # exp vs energy\n",
    "df_feat[\"winner_rank_points\"] = df_feat[\"winner_rank_points\"].fillna(df_feat[\"winner_rank_points\"].max())\n",
    "df_feat[\"loser_ht\"] = df_feat[\"loser_ht\"].fillna(df_feat[\"loser_ht\"].max())\n",
    "df_feat[\"loser_age\"] = df_feat[\"loser_age\"].fillna(df_feat[\"loser_age\"].mean()) # exp vs energy\n",
    "df_feat[\"loser_rank_points\"] = df_feat[\"loser_rank_points\"].fillna(df_feat[\"loser_rank_points\"].max())"
   ]
  },
  {
   "cell_type": "markdown",
   "metadata": {},
   "source": [
    "## Features relevance for classification"
   ]
  },
  {
   "cell_type": "code",
   "execution_count": 69,
   "metadata": {},
   "outputs": [
    {
     "data": {
      "image/png": "[encoded data removed]",
      "text/plain": [
       "<Figure size 720x720 with 1 Axes>"
      ]
     },
     "metadata": {},
     "output_type": "display_data"
    }
   ],
   "source": [
    "feat_forest = RandomForestClassifier(n_jobs=-1)\n",
    "feat_forest.fit(X=df_feat.drop(\"Labels\", axis=1), y=df_feat.loc[:, \"Labels\"])\n",
    "\n",
    "plt.figure(figsize=(10, 10))\n",
    "feat_imp = feat_forest.feature_importances_\n",
    "cols = df_feat.columns\n",
    "\n",
    "feat_imp, cols = zip(*sorted(zip(feat_imp, cols)))\n",
    "\n",
    "plt.barh(range(len(cols)), feat_imp, align=\"center\", color='coral');\n",
    "plt.yticks(range(len(cols)), cols)\n",
    "plt.title(\"Features Relevance for Classification\")\n",
    "plt.xlabel(\"Relevance Percentage\")\n",
    "plt.tight_layout();\n",
    "\n",
    "plt.savefig('features_relevance.png')\n",
    "#plotly.offline.plot(fig, filename='features_relevance.html')"
   ]
  },
  {
   "cell_type": "code",
   "execution_count": 70,
   "metadata": {},
   "outputs": [
    {
     "data": {
      "text/plain": [
       "('loser_rank_points',\n",
       " 'winner_rank_points',\n",
       " 'loser_ht',\n",
       " 'winner_ht',\n",
       " 'tourney_year',\n",
       " 'winner_rank',\n",
       " 'loser_rank',\n",
       " 'loser_age',\n",
       " 'winner_age')"
      ]
     },
     "execution_count": 70,
     "metadata": {},
     "output_type": "execute_result"
    }
   ],
   "source": [
    "relevance_threshold = 0.025 # arbitrary\n",
    "feat_imp = np.array(feat_imp)\n",
    "most_relevante_feat = cols[- np.where(feat_imp > relevance_threshold)[0].shape[0] :]\n",
    "\n",
    "most_relevante_feat"
   ]
  },
  {
   "cell_type": "code",
   "execution_count": 71,
   "metadata": {},
   "outputs": [
    {
     "data": {
      "text/html": [
       "<div>\n",
       "<style scoped>\n",
       "    .dataframe tbody tr th:only-of-type {\n",
       "        vertical-align: middle;\n",
       "    }\n",
       "\n",
       "    .dataframe tbody tr th {\n",
       "        vertical-align: top;\n",
       "    }\n",
       "\n",
       "    .dataframe thead th {\n",
       "        text-align: right;\n",
       "    }\n",
       "</style>\n",
       "<table border=\"1\" class=\"dataframe\">\n",
       "  <thead>\n",
       "    <tr style=\"text-align: right;\">\n",
       "      <th></th>\n",
       "      <th>loser_rank_points</th>\n",
       "      <th>winner_rank_points</th>\n",
       "      <th>loser_ht</th>\n",
       "      <th>winner_ht</th>\n",
       "      <th>tourney_year</th>\n",
       "      <th>winner_rank</th>\n",
       "      <th>loser_rank</th>\n",
       "      <th>loser_age</th>\n",
       "      <th>winner_age</th>\n",
       "      <th>Labels</th>\n",
       "    </tr>\n",
       "  </thead>\n",
       "  <tbody>\n",
       "    <tr>\n",
       "      <th>0</th>\n",
       "      <td>16950.0</td>\n",
       "      <td>16950.0</td>\n",
       "      <td>208.0</td>\n",
       "      <td>208.0</td>\n",
       "      <td>1968.0</td>\n",
       "      <td>0</td>\n",
       "      <td>0.0</td>\n",
       "      <td>25.585903</td>\n",
       "      <td>25.535020</td>\n",
       "      <td>0</td>\n",
       "    </tr>\n",
       "    <tr>\n",
       "      <th>1</th>\n",
       "      <td>16950.0</td>\n",
       "      <td>16950.0</td>\n",
       "      <td>208.0</td>\n",
       "      <td>208.0</td>\n",
       "      <td>1968.0</td>\n",
       "      <td>0</td>\n",
       "      <td>0.0</td>\n",
       "      <td>25.585903</td>\n",
       "      <td>27.520876</td>\n",
       "      <td>0</td>\n",
       "    </tr>\n",
       "    <tr>\n",
       "      <th>2</th>\n",
       "      <td>16950.0</td>\n",
       "      <td>16950.0</td>\n",
       "      <td>208.0</td>\n",
       "      <td>208.0</td>\n",
       "      <td>1968.0</td>\n",
       "      <td>0</td>\n",
       "      <td>0.0</td>\n",
       "      <td>25.585903</td>\n",
       "      <td>16.216290</td>\n",
       "      <td>0</td>\n",
       "    </tr>\n",
       "    <tr>\n",
       "      <th>3</th>\n",
       "      <td>16950.0</td>\n",
       "      <td>16950.0</td>\n",
       "      <td>208.0</td>\n",
       "      <td>208.0</td>\n",
       "      <td>1968.0</td>\n",
       "      <td>0</td>\n",
       "      <td>0.0</td>\n",
       "      <td>25.585903</td>\n",
       "      <td>22.264203</td>\n",
       "      <td>1</td>\n",
       "    </tr>\n",
       "    <tr>\n",
       "      <th>4</th>\n",
       "      <td>16950.0</td>\n",
       "      <td>16950.0</td>\n",
       "      <td>208.0</td>\n",
       "      <td>208.0</td>\n",
       "      <td>1968.0</td>\n",
       "      <td>0</td>\n",
       "      <td>0.0</td>\n",
       "      <td>25.585903</td>\n",
       "      <td>29.861739</td>\n",
       "      <td>0</td>\n",
       "    </tr>\n",
       "  </tbody>\n",
       "</table>\n",
       "</div>"
      ],
      "text/plain": [
       "   loser_rank_points  winner_rank_points  loser_ht  winner_ht  tourney_year  \\\n",
       "0            16950.0             16950.0     208.0      208.0        1968.0   \n",
       "1            16950.0             16950.0     208.0      208.0        1968.0   \n",
       "2            16950.0             16950.0     208.0      208.0        1968.0   \n",
       "3            16950.0             16950.0     208.0      208.0        1968.0   \n",
       "4            16950.0             16950.0     208.0      208.0        1968.0   \n",
       "\n",
       "   winner_rank  loser_rank  loser_age  winner_age  Labels  \n",
       "0            0         0.0  25.585903   25.535020       0  \n",
       "1            0         0.0  25.585903   27.520876       0  \n",
       "2            0         0.0  25.585903   16.216290       0  \n",
       "3            0         0.0  25.585903   22.264203       1  \n",
       "4            0         0.0  25.585903   29.861739       0  "
      ]
     },
     "execution_count": 71,
     "metadata": {},
     "output_type": "execute_result"
    }
   ],
   "source": [
    "df_feat_relevant = df_feat[['loser_rank_points', 'winner_rank_points', 'loser_ht', 'winner_ht',\n",
    "                          'tourney_year', 'winner_rank', 'loser_rank', 'loser_age', 'winner_age','Labels']].copy()\n",
    "df_feat_relevant.head(5)"
   ]
  },
  {
   "cell_type": "code",
   "execution_count": 73,
   "metadata": {},
   "outputs": [
    {
     "data": {
      "text/html": [
       "<h4>Distribution of height shows that winner height tend to be between 1.75 & 1.95 m. Also, notice the peak at 2.10 which represent NaN value see cell -hypothesis-."
      ],
      "text/plain": [
       "<IPython.core.display.HTML object>"
      ]
     },
     "metadata": {},
     "output_type": "display_data"
    },
    {
     "data": {
      "image/png": "[encoded data removed]",
      "text/plain": [
       "<Figure size 432x288 with 1 Axes>"
      ]
     },
     "metadata": {},
     "output_type": "display_data"
    }
   ],
   "source": [
    "mutual_hist(data1 = df_feat_relevant[\"winner_ht\"].apply(lambda x: x * 1)\n",
    "                   , data1_name = 'Winner'\n",
    "                   , data1_color = 'salmon'\n",
    "                   , data2 = df_feat[\"loser_ht\"].apply(lambda x: x * 1)\n",
    "                   , data2_name = 'Loser'\n",
    "                   , data2_color = 'navy'\n",
    "                   , x_label = 'Height'\n",
    "                   , y_label = 'Frequency'\n",
    "                   , title = 'Distribution of height')\n",
    "\n",
    "display(HTML(\"<h4>Distribution of height shows that winner height tend to be between 1.75 & 1.95 m. Also, notice the peak at 2.10 which represent NaN value see cell -hypothesis-.\"))\n",
    "\n",
    "plt.savefig('Height_winner-loser.png')\n",
    "#plotly.offline.plot(fig, filename='Height_winner-loser.html')"
   ]
  },
  {
   "cell_type": "code",
   "execution_count": 74,
   "metadata": {},
   "outputs": [
    {
     "data": {
      "text/html": [
       "<h4>Note surprising high ranking players win more than low ranking players. Top 10 peak is high -> to check"
      ],
      "text/plain": [
       "<IPython.core.display.HTML object>"
      ]
     },
     "metadata": {},
     "output_type": "display_data"
    },
    {
     "data": {
      "image/png": "[encoded data removed]",
      "text/plain": [
       "<Figure size 432x288 with 1 Axes>"
      ]
     },
     "metadata": {},
     "output_type": "display_data"
    }
   ],
   "source": [
    "mutual_hist(data1 = df_feat_relevant[df_feat_relevant[\"winner_rank\"] < 100][\"winner_rank\"]\n",
    "                   , data1_name = 'Winner'\n",
    "                   , data1_color = 'salmon'\n",
    "                   , data2 = df_feat[df_feat[\"loser_rank\"] < 100][\"loser_rank\"]\n",
    "                   , data2_name = 'Loser'\n",
    "                   , data2_color = 'navy'\n",
    "                   , x_label = 'Rank'\n",
    "                   , y_label = 'Frequency'\n",
    "                   , title = 'Distribution of TOP 100 ATP Player')\n",
    "\n",
    "display(HTML(\"<h4>Note surprising high ranking players win more than low ranking players. Top 10 peak is high -> to check\"))\n",
    "\n",
    "plt.savefig('rank_winner-loser.png')\n",
    "#plotly.offline.plot(fig, filename='rank_winner-loser.html')"
   ]
  },
  {
   "cell_type": "markdown",
   "metadata": {},
   "source": [
    "## Standardize the data"
   ]
  },
  {
   "cell_type": "code",
   "execution_count": 75,
   "metadata": {},
   "outputs": [
    {
     "name": "stderr",
     "output_type": "stream",
     "text": [
      "C:\\Users\\a.mendes\\AppData\\Local\\Continuum\\anaconda2\\lib\\site-packages\\sklearn\\preprocessing\\data.py:625: DataConversionWarning:\n",
      "\n",
      "Data with input dtype float32, int32, float64 were all converted to float64 by StandardScaler.\n",
      "\n",
      "C:\\Users\\a.mendes\\AppData\\Local\\Continuum\\anaconda2\\lib\\site-packages\\sklearn\\base.py:462: DataConversionWarning:\n",
      "\n",
      "Data with input dtype float32, int32, float64 were all converted to float64 by StandardScaler.\n",
      "\n"
     ]
    }
   ],
   "source": [
    "scaler = StandardScaler()\n",
    "\n",
    "df_feat_relevant = pd.DataFrame(\n",
    "    scaler.fit_transform(df_feat_relevant.drop([\"Labels\"], axis=1)),\n",
    "    columns=most_relevante_feat)"
   ]
  },
  {
   "cell_type": "code",
   "execution_count": 76,
   "metadata": {},
   "outputs": [
    {
     "data": {
      "image/png": "[encoded data removed]",
      "text/plain": [
       "<Figure size 432x288 with 1 Axes>"
      ]
     },
     "metadata": {},
     "output_type": "display_data"
    }
   ],
   "source": [
    "mutual_hist(data1 = df_feat_relevant[df_feat_relevant[\"winner_rank\"] < 1][\"winner_rank\"]\n",
    "                   , data1_name = 'Winner'\n",
    "                   , data1_color = 'salmon'\n",
    "                   , data2 = df_feat_relevant[df_feat_relevant[\"loser_rank\"] < 1][\"loser_rank\"]\n",
    "                   , data2_name = 'Loser'\n",
    "                   , data2_color = 'navy'\n",
    "                   , x_label = 'Rank'\n",
    "                   , y_label = 'Frequency'\n",
    "                   , title = 'Standardized Distribution of TOP 100 ATP Player')\n",
    "\n",
    "plt.savefig('standard_rank_winner-loser.png')\n",
    "#plotly.offline.plot(fig, filename='standard_rank_winner-loser.html')"
   ]
  },
  {
   "cell_type": "markdown",
   "metadata": {},
   "source": [
    "# Prediction models"
   ]
  },
  {
   "cell_type": "markdown",
   "metadata": {},
   "source": [
    "## Training"
   ]
  },
  {
   "cell_type": "code",
   "execution_count": 77,
   "metadata": {},
   "outputs": [],
   "source": [
    "df_feat_relevant = df_feat_relevant.join(df_feat.Labels)\n",
    "df_feat_relevant = df_feat_relevant.join(df_feat.tourney_year, lsuffix='_caller', rsuffix='_other')"
   ]
  },
  {
   "cell_type": "code",
   "execution_count": 78,
   "metadata": {},
   "outputs": [
    {
     "data": {
      "text/html": [
       "<div>\n",
       "<style scoped>\n",
       "    .dataframe tbody tr th:only-of-type {\n",
       "        vertical-align: middle;\n",
       "    }\n",
       "\n",
       "    .dataframe tbody tr th {\n",
       "        vertical-align: top;\n",
       "    }\n",
       "\n",
       "    .dataframe thead th {\n",
       "        text-align: right;\n",
       "    }\n",
       "</style>\n",
       "<table border=\"1\" class=\"dataframe\">\n",
       "  <thead>\n",
       "    <tr style=\"text-align: right;\">\n",
       "      <th></th>\n",
       "      <th>loser_rank_points</th>\n",
       "      <th>winner_rank_points</th>\n",
       "      <th>loser_ht</th>\n",
       "      <th>winner_ht</th>\n",
       "      <th>tourney_year_caller</th>\n",
       "      <th>winner_rank</th>\n",
       "      <th>loser_rank</th>\n",
       "      <th>loser_age</th>\n",
       "      <th>winner_age</th>\n",
       "      <th>Labels</th>\n",
       "      <th>tourney_year_other</th>\n",
       "    </tr>\n",
       "  </thead>\n",
       "  <tbody>\n",
       "    <tr>\n",
       "      <th>160636</th>\n",
       "      <td>0.797047</td>\n",
       "      <td>-0.183607</td>\n",
       "      <td>-0.297706</td>\n",
       "      <td>0.952192</td>\n",
       "      <td>1.79636</td>\n",
       "      <td>-0.469098</td>\n",
       "      <td>-0.6363</td>\n",
       "      <td>2.239454</td>\n",
       "      <td>-0.133471</td>\n",
       "      <td>NaN</td>\n",
       "      <td>NaN</td>\n",
       "    </tr>\n",
       "  </tbody>\n",
       "</table>\n",
       "</div>"
      ],
      "text/plain": [
       "        loser_rank_points  winner_rank_points  loser_ht  winner_ht  \\\n",
       "160636           0.797047           -0.183607 -0.297706   0.952192   \n",
       "\n",
       "        tourney_year_caller  winner_rank  loser_rank  loser_age  winner_age  \\\n",
       "160636              1.79636    -0.469098     -0.6363   2.239454   -0.133471   \n",
       "\n",
       "        Labels  tourney_year_other  \n",
       "160636     NaN                 NaN  "
      ]
     },
     "execution_count": 78,
     "metadata": {},
     "output_type": "execute_result"
    }
   ],
   "source": [
    "df_feat_relevant[df_feat_relevant.tourney_year_other.isna()]"
   ]
  },
  {
   "cell_type": "code",
   "execution_count": 79,
   "metadata": {},
   "outputs": [],
   "source": [
    "df_feat_relevant = df_feat_relevant.dropna()"
   ]
  },
  {
   "cell_type": "code",
   "execution_count": 80,
   "metadata": {},
   "outputs": [],
   "source": [
    "test_year = 2016.0 # the most recent year\n",
    "\n",
    "df_train = df_feat_relevant[df_feat_relevant[\"tourney_year_other\"] != test_year]\n",
    "df_test = df_feat_relevant[df_feat_relevant[\"tourney_year_other\"] == test_year]\n",
    "\n",
    "X_train = df_train.drop([\"Labels\"], axis=1)\n",
    "X_train = X_train.drop([\"tourney_year_other\"], axis=1)\n",
    "y_train = df_train[\"Labels\"]\n",
    "\n",
    "X_test = df_test.drop([\"Labels\"], axis=1)\n",
    "X_test = X_test.drop([\"tourney_year_other\"], axis=1)\n",
    "y_test = df_test[\"Labels\"]"
   ]
  },
  {
   "cell_type": "code",
   "execution_count": 81,
   "metadata": {},
   "outputs": [
    {
     "data": {
      "text/html": [
       "<div>\n",
       "<style scoped>\n",
       "    .dataframe tbody tr th:only-of-type {\n",
       "        vertical-align: middle;\n",
       "    }\n",
       "\n",
       "    .dataframe tbody tr th {\n",
       "        vertical-align: top;\n",
       "    }\n",
       "\n",
       "    .dataframe thead th {\n",
       "        text-align: right;\n",
       "    }\n",
       "</style>\n",
       "<table border=\"1\" class=\"dataframe\">\n",
       "  <thead>\n",
       "    <tr style=\"text-align: right;\">\n",
       "      <th></th>\n",
       "      <th>loser_rank_points</th>\n",
       "      <th>winner_rank_points</th>\n",
       "      <th>loser_ht</th>\n",
       "      <th>winner_ht</th>\n",
       "      <th>tourney_year_caller</th>\n",
       "      <th>winner_rank</th>\n",
       "      <th>loser_rank</th>\n",
       "      <th>loser_age</th>\n",
       "      <th>winner_age</th>\n",
       "    </tr>\n",
       "  </thead>\n",
       "  <tbody>\n",
       "    <tr>\n",
       "      <th>160637</th>\n",
       "      <td>-0.275352</td>\n",
       "      <td>0.845624</td>\n",
       "      <td>1.803216</td>\n",
       "      <td>-0.185160</td>\n",
       "      <td>1.79636</td>\n",
       "      <td>-0.565480</td>\n",
       "      <td>-0.523598</td>\n",
       "      <td>-0.825264</td>\n",
       "      <td>2.304573</td>\n",
       "    </tr>\n",
       "    <tr>\n",
       "      <th>160638</th>\n",
       "      <td>-0.263285</td>\n",
       "      <td>-0.183607</td>\n",
       "      <td>0.433049</td>\n",
       "      <td>0.952192</td>\n",
       "      <td>1.79636</td>\n",
       "      <td>-0.469098</td>\n",
       "      <td>-0.536857</td>\n",
       "      <td>-0.604916</td>\n",
       "      <td>-0.133471</td>\n",
       "    </tr>\n",
       "    <tr>\n",
       "      <th>160639</th>\n",
       "      <td>-0.313968</td>\n",
       "      <td>0.845624</td>\n",
       "      <td>-0.023673</td>\n",
       "      <td>-0.185160</td>\n",
       "      <td>1.79636</td>\n",
       "      <td>-0.565480</td>\n",
       "      <td>-0.470562</td>\n",
       "      <td>-0.240681</td>\n",
       "      <td>2.304573</td>\n",
       "    </tr>\n",
       "    <tr>\n",
       "      <th>160640</th>\n",
       "      <td>-0.145828</td>\n",
       "      <td>-0.279860</td>\n",
       "      <td>0.889772</td>\n",
       "      <td>2.192940</td>\n",
       "      <td>1.79636</td>\n",
       "      <td>-0.416526</td>\n",
       "      <td>-0.570005</td>\n",
       "      <td>0.426620</td>\n",
       "      <td>-0.831172</td>\n",
       "    </tr>\n",
       "    <tr>\n",
       "      <th>160641</th>\n",
       "      <td>-0.424667</td>\n",
       "      <td>-0.183607</td>\n",
       "      <td>1.803216</td>\n",
       "      <td>0.952192</td>\n",
       "      <td>1.79636</td>\n",
       "      <td>-0.469098</td>\n",
       "      <td>-0.139086</td>\n",
       "      <td>-0.945517</td>\n",
       "      <td>-0.133471</td>\n",
       "    </tr>\n",
       "  </tbody>\n",
       "</table>\n",
       "</div>"
      ],
      "text/plain": [
       "        loser_rank_points  winner_rank_points  loser_ht  winner_ht  \\\n",
       "160637          -0.275352            0.845624  1.803216  -0.185160   \n",
       "160638          -0.263285           -0.183607  0.433049   0.952192   \n",
       "160639          -0.313968            0.845624 -0.023673  -0.185160   \n",
       "160640          -0.145828           -0.279860  0.889772   2.192940   \n",
       "160641          -0.424667           -0.183607  1.803216   0.952192   \n",
       "\n",
       "        tourney_year_caller  winner_rank  loser_rank  loser_age  winner_age  \n",
       "160637              1.79636    -0.565480   -0.523598  -0.825264    2.304573  \n",
       "160638              1.79636    -0.469098   -0.536857  -0.604916   -0.133471  \n",
       "160639              1.79636    -0.565480   -0.470562  -0.240681    2.304573  \n",
       "160640              1.79636    -0.416526   -0.570005   0.426620   -0.831172  \n",
       "160641              1.79636    -0.469098   -0.139086  -0.945517   -0.133471  "
      ]
     },
     "execution_count": 81,
     "metadata": {},
     "output_type": "execute_result"
    }
   ],
   "source": [
    "X_test.head()"
   ]
  },
  {
   "cell_type": "code",
   "execution_count": 82,
   "metadata": {},
   "outputs": [
    {
     "name": "stdout",
     "output_type": "stream",
     "text": [
      "Classifier : Nearest Neighbors ===> Training duration : 0.147000074387 sec\n",
      "Classifier : Decision Tree ===> Training duration : 0.518000125885 sec\n",
      "Classifier : Random Forest ===> Training duration : 0.673000097275 sec\n"
     ]
    },
    {
     "name": "stderr",
     "output_type": "stream",
     "text": [
      "C:\\Users\\a.mendes\\AppData\\Local\\Continuum\\anaconda2\\lib\\site-packages\\sklearn\\neural_network\\multilayer_perceptron.py:562: ConvergenceWarning:\n",
      "\n",
      "Stochastic Optimizer: Maximum iterations (200) reached and the optimization hasn't converged yet.\n",
      "\n"
     ]
    },
    {
     "name": "stdout",
     "output_type": "stream",
     "text": [
      "Classifier : Neural Net ===> Training duration : 93.4049999714 sec\n",
      "Classifier : AdaBoost ===> Training duration : 4.66799998283 sec\n",
      "Classifier : Naive Bayes ===> Training duration : 0.047000169754 sec\n",
      "Classifier : Linear SVM ===> Training duration : 599.707999945 sec\n",
      "Classifier : RBF SVM ===> Training duration : 3174.36199999 sec\n"
     ]
    }
   ],
   "source": [
    "names = [\"Nearest Neighbors\",\"Decision Tree\", \n",
    "         \"Random Forest\", \"Neural Net\", \"AdaBoost\",\n",
    "         \"Naive Bayes\", \"Linear SVM\", \"RBF SVM\"]\n",
    "\n",
    "classifiers = [\n",
    "    KNeighborsClassifier(5, n_jobs=-1),\n",
    "    DecisionTreeClassifier(max_depth=10),\n",
    "    RandomForestClassifier(max_depth=10, n_estimators=10, n_jobs=-1),\n",
    "    MLPClassifier(alpha=0.0001),\n",
    "    AdaBoostClassifier(),\n",
    "    GaussianNB(),\n",
    "    SVC(kernel=\"linear\", C=0.025),\n",
    "    SVC(gamma=2, C=1),]\n",
    "\n",
    "y_pred = []\n",
    "train_time = []\n",
    "\n",
    "for name, clf in zip(names, classifiers):\n",
    "    tic = time()\n",
    "    clf.fit(X_train, y_train)\n",
    "    toc = time()\n",
    "    \n",
    "    y_pred.append(clf.predict(X_train))\n",
    "    train_time.append(toc - tic)\n",
    "    \n",
    "    print(\"Classifier : {} ===> Training duration : {} sec\".format(name, train_time[-1]))"
   ]
  },
  {
   "cell_type": "code",
   "execution_count": 108,
   "metadata": {},
   "outputs": [
    {
     "data": {
      "text/html": [
       "<div>\n",
       "<style scoped>\n",
       "    .dataframe tbody tr th:only-of-type {\n",
       "        vertical-align: middle;\n",
       "    }\n",
       "\n",
       "    .dataframe tbody tr th {\n",
       "        vertical-align: top;\n",
       "    }\n",
       "\n",
       "    .dataframe thead th {\n",
       "        text-align: right;\n",
       "    }\n",
       "</style>\n",
       "<table border=\"1\" class=\"dataframe\">\n",
       "  <thead>\n",
       "    <tr style=\"text-align: right;\">\n",
       "      <th></th>\n",
       "      <th>Classifier</th>\n",
       "      <th>Accuracy</th>\n",
       "      <th>Precision</th>\n",
       "      <th>Recall</th>\n",
       "      <th>F1-Score</th>\n",
       "      <th>Training Duration (seconds)</th>\n",
       "    </tr>\n",
       "  </thead>\n",
       "  <tbody>\n",
       "    <tr>\n",
       "      <th>0</th>\n",
       "      <td>Nearest Neighbors</td>\n",
       "      <td>0.758634</td>\n",
       "      <td>0.757507</td>\n",
       "      <td>0.754977</td>\n",
       "      <td>0.756240</td>\n",
       "      <td>0.147</td>\n",
       "    </tr>\n",
       "    <tr>\n",
       "      <th>1</th>\n",
       "      <td>Decision Tree</td>\n",
       "      <td>0.594001</td>\n",
       "      <td>0.573569</td>\n",
       "      <td>0.706799</td>\n",
       "      <td>0.633252</td>\n",
       "      <td>0.518</td>\n",
       "    </tr>\n",
       "    <tr>\n",
       "      <th>2</th>\n",
       "      <td>Random Forest</td>\n",
       "      <td>0.636408</td>\n",
       "      <td>0.625079</td>\n",
       "      <td>0.666729</td>\n",
       "      <td>0.645233</td>\n",
       "      <td>0.673</td>\n",
       "    </tr>\n",
       "    <tr>\n",
       "      <th>3</th>\n",
       "      <td>Neural Net</td>\n",
       "      <td>0.596454</td>\n",
       "      <td>0.591507</td>\n",
       "      <td>0.602006</td>\n",
       "      <td>0.596710</td>\n",
       "      <td>93.405</td>\n",
       "    </tr>\n",
       "    <tr>\n",
       "      <th>4</th>\n",
       "      <td>AdaBoost</td>\n",
       "      <td>0.546789</td>\n",
       "      <td>0.542380</td>\n",
       "      <td>0.551041</td>\n",
       "      <td>0.546676</td>\n",
       "      <td>4.668</td>\n",
       "    </tr>\n",
       "    <tr>\n",
       "      <th>5</th>\n",
       "      <td>Naive Bayes</td>\n",
       "      <td>0.515196</td>\n",
       "      <td>0.515883</td>\n",
       "      <td>0.363887</td>\n",
       "      <td>0.426755</td>\n",
       "      <td>0.047</td>\n",
       "    </tr>\n",
       "    <tr>\n",
       "      <th>6</th>\n",
       "      <td>Linear SVM</td>\n",
       "      <td>0.512245</td>\n",
       "      <td>0.516390</td>\n",
       "      <td>0.259245</td>\n",
       "      <td>0.345192</td>\n",
       "      <td>599.708</td>\n",
       "    </tr>\n",
       "    <tr>\n",
       "      <th>7</th>\n",
       "      <td>RBF SVM</td>\n",
       "      <td>0.756605</td>\n",
       "      <td>0.755241</td>\n",
       "      <td>0.753345</td>\n",
       "      <td>0.754292</td>\n",
       "      <td>3174.362</td>\n",
       "    </tr>\n",
       "  </tbody>\n",
       "</table>\n",
       "</div>"
      ],
      "text/plain": [
       "          Classifier  Accuracy  Precision    Recall  F1-Score  \\\n",
       "0  Nearest Neighbors  0.758634   0.757507  0.754977  0.756240   \n",
       "1      Decision Tree  0.594001   0.573569  0.706799  0.633252   \n",
       "2      Random Forest  0.636408   0.625079  0.666729  0.645233   \n",
       "3         Neural Net  0.596454   0.591507  0.602006  0.596710   \n",
       "4           AdaBoost  0.546789   0.542380  0.551041  0.546676   \n",
       "5        Naive Bayes  0.515196   0.515883  0.363887  0.426755   \n",
       "6         Linear SVM  0.512245   0.516390  0.259245  0.345192   \n",
       "7            RBF SVM  0.756605   0.755241  0.753345  0.754292   \n",
       "\n",
       "   Training Duration (seconds)  \n",
       "0                        0.147  \n",
       "1                        0.518  \n",
       "2                        0.673  \n",
       "3                       93.405  \n",
       "4                        4.668  \n",
       "5                        0.047  \n",
       "6                      599.708  \n",
       "7                     3174.362  "
      ]
     },
     "metadata": {},
     "output_type": "display_data"
    }
   ],
   "source": [
    "classification_report(y_train, y_pred, names, train_time)"
   ]
  },
  {
   "cell_type": "markdown",
   "metadata": {},
   "source": [
    "## Evaluation on test data"
   ]
  },
  {
   "cell_type": "code",
   "execution_count": 85,
   "metadata": {},
   "outputs": [],
   "source": [
    "y_test_pred = []\n",
    "\n",
    "for name, clf in zip(names, classifiers):\n",
    "    y_test_pred.append(clf.predict(X_test))"
   ]
  },
  {
   "cell_type": "code",
   "execution_count": 114,
   "metadata": {
    "scrolled": true
   },
   "outputs": [
    {
     "data": {
      "text/html": [
       "<div>\n",
       "<style scoped>\n",
       "    .dataframe tbody tr th:only-of-type {\n",
       "        vertical-align: middle;\n",
       "    }\n",
       "\n",
       "    .dataframe tbody tr th {\n",
       "        vertical-align: top;\n",
       "    }\n",
       "\n",
       "    .dataframe thead th {\n",
       "        text-align: right;\n",
       "    }\n",
       "</style>\n",
       "<table border=\"1\" class=\"dataframe\">\n",
       "  <thead>\n",
       "    <tr style=\"text-align: right;\">\n",
       "      <th></th>\n",
       "      <th>Classifier</th>\n",
       "      <th>Accuracy</th>\n",
       "      <th>Precision</th>\n",
       "      <th>Recall</th>\n",
       "      <th>F1-Score</th>\n",
       "    </tr>\n",
       "  </thead>\n",
       "  <tbody>\n",
       "    <tr>\n",
       "      <th>0</th>\n",
       "      <td>Nearest Neighbors</td>\n",
       "      <td>0.510204</td>\n",
       "      <td>0.508978</td>\n",
       "      <td>0.502729</td>\n",
       "      <td>0.505834</td>\n",
       "    </tr>\n",
       "    <tr>\n",
       "      <th>1</th>\n",
       "      <td>Decision Tree</td>\n",
       "      <td>0.511905</td>\n",
       "      <td>0.507848</td>\n",
       "      <td>0.684175</td>\n",
       "      <td>0.582970</td>\n",
       "    </tr>\n",
       "    <tr>\n",
       "      <th>2</th>\n",
       "      <td>Random Forest</td>\n",
       "      <td>0.492177</td>\n",
       "      <td>0.489104</td>\n",
       "      <td>0.413370</td>\n",
       "      <td>0.448059</td>\n",
       "    </tr>\n",
       "    <tr>\n",
       "      <th>3</th>\n",
       "      <td>Neural Net</td>\n",
       "      <td>0.506122</td>\n",
       "      <td>0.504762</td>\n",
       "      <td>0.506139</td>\n",
       "      <td>0.505450</td>\n",
       "    </tr>\n",
       "    <tr>\n",
       "      <th>4</th>\n",
       "      <td>AdaBoost</td>\n",
       "      <td>0.499320</td>\n",
       "      <td>0.497283</td>\n",
       "      <td>0.374488</td>\n",
       "      <td>0.427237</td>\n",
       "    </tr>\n",
       "    <tr>\n",
       "      <th>5</th>\n",
       "      <td>Naive Bayes</td>\n",
       "      <td>0.503061</td>\n",
       "      <td>0.509653</td>\n",
       "      <td>0.090041</td>\n",
       "      <td>0.153043</td>\n",
       "    </tr>\n",
       "    <tr>\n",
       "      <th>6</th>\n",
       "      <td>Linear SVM</td>\n",
       "      <td>0.503401</td>\n",
       "      <td>0.519737</td>\n",
       "      <td>0.053888</td>\n",
       "      <td>0.097651</td>\n",
       "    </tr>\n",
       "    <tr>\n",
       "      <th>7</th>\n",
       "      <td>RBF SVM</td>\n",
       "      <td>0.505442</td>\n",
       "      <td>0.504386</td>\n",
       "      <td>0.470668</td>\n",
       "      <td>0.486944</td>\n",
       "    </tr>\n",
       "  </tbody>\n",
       "</table>\n",
       "</div>"
      ],
      "text/plain": [
       "          Classifier  Accuracy  Precision    Recall  F1-Score\n",
       "0  Nearest Neighbors  0.510204   0.508978  0.502729  0.505834\n",
       "1      Decision Tree  0.511905   0.507848  0.684175  0.582970\n",
       "2      Random Forest  0.492177   0.489104  0.413370  0.448059\n",
       "3         Neural Net  0.506122   0.504762  0.506139  0.505450\n",
       "4           AdaBoost  0.499320   0.497283  0.374488  0.427237\n",
       "5        Naive Bayes  0.503061   0.509653  0.090041  0.153043\n",
       "6         Linear SVM  0.503401   0.519737  0.053888  0.097651\n",
       "7            RBF SVM  0.505442   0.504386  0.470668  0.486944"
      ]
     },
     "metadata": {},
     "output_type": "display_data"
    }
   ],
   "source": [
    "classification_report(y_test, y_test_pred, names)"
   ]
  },
  {
   "cell_type": "markdown",
   "metadata": {},
   "source": [
    "# Next step"
   ]
  },
  {
   "cell_type": "markdown",
   "metadata": {},
   "source": [
    "##### 1- Find a better way to fill NaN \n",
    "##### 2- Train models with only recent years because old tennis data could be obsolete\n",
    "##### 3- Increase or decrease the relevance threshold\n",
    "##### 4- Add Markov chains to train models\n",
    "##### 5- Try the Decision tree model with futur tournament data and... results/labels\n",
    "##### 6- Look deeper at data to clean data and/or to exctract new pertinent features\n",
    "##### 7- Tune models to increase scores prediction\n",
    "##### 8- Explore new approaches & new models\n",
    "##### 9- Improve dataviz"
   ]
  }
 ],
 "metadata": {
  "kernelspec": {
   "display_name": "Python 2",
   "language": "python",
   "name": "python2"
  },
  "language_info": {
   "codemirror_mode": {
    "name": "ipython",
    "version": 2
   },
   "file_extension": ".py",
   "mimetype": "text/x-python",
   "name": "python",
   "nbconvert_exporter": "python",
   "pygments_lexer": "ipython2",
   "version": "2.7.15"
  }
 },
 "nbformat": 4,
 "nbformat_minor": 2
}
